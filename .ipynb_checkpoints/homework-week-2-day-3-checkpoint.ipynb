{
 "cells": [
  {
   "cell_type": "markdown",
   "id": "a508e9b4",
   "metadata": {},
   "source": [
    "# 1) Build a Shopping Cart\n",
    "You can use either lists or dictionaries. The program should have the following capabilities:\n",
    "\n",
    "1) Takes in input\n",
    "2) Stores user input into a dictionary or list\n",
    "3) The User can add or delete items\n",
    "4) The User can see current shopping list\n",
    "5) The program Loops until user 'quits'\n",
    "6) Upon quiting the program, print out all items in the user's list"
   ]
  },
  {
   "cell_type": "code",
   "execution_count": 10,
   "id": "6994a535",
   "metadata": {},
   "outputs": [
    {
     "name": "stdout",
     "output_type": "stream",
     "text": [
      "Welcome to Bruce-Mart! Please select from the following! \n",
      " Type 'S' - to show the contents of your cart \n",
      " Type 'A' - to add items to your cart \n",
      " Type 'D' - to delete items \n",
      " Type 'Q' - to quit! \n",
      "a\n",
      "What would you like to add to your cart? Type 'Q' - to cancel. \n",
      "dog\n",
      "Welcome to Bruce-Mart! Please select from the following! \n",
      " Type 'S' - to show the contents of your cart \n",
      " Type 'A' - to add items to your cart \n",
      " Type 'D' - to delete items \n",
      " Type 'Q' - to quit! \n",
      "a\n",
      "What would you like to add to your cart? Type 'Q' - to cancel. \n",
      "cat\n",
      "Welcome to Bruce-Mart! Please select from the following! \n",
      " Type 'S' - to show the contents of your cart \n",
      " Type 'A' - to add items to your cart \n",
      " Type 'D' - to delete items \n",
      " Type 'Q' - to quit! \n",
      "a\n",
      "What would you like to add to your cart? Type 'Q' - to cancel. \n",
      "sdfgsdef\n",
      "Welcome to Bruce-Mart! Please select from the following! \n",
      " Type 'S' - to show the contents of your cart \n",
      " Type 'A' - to add items to your cart \n",
      " Type 'D' - to delete items \n",
      " Type 'Q' - to quit! \n",
      "d\n",
      "0 dog\n",
      "1 cat\n",
      "2 sdfgsdef\n",
      "Please type the number next to the item you'd like to delete!2\n"
     ]
    },
    {
     "ename": "ValueError",
     "evalue": "invalid literal for int() with base 10: 'sdfgsdef'",
     "output_type": "error",
     "traceback": [
      "\u001b[1;31m---------------------------------------------------------------------------\u001b[0m",
      "\u001b[1;31mValueError\u001b[0m                                Traceback (most recent call last)",
      "\u001b[1;32m~\\AppData\\Local\\Temp\\ipykernel_24888\\4100426841.py\u001b[0m in \u001b[0;36m<module>\u001b[1;34m\u001b[0m\n\u001b[0;32m     17\u001b[0m                 \u001b[0mprint\u001b[0m\u001b[1;33m(\u001b[0m\u001b[0mi\u001b[0m\u001b[1;33m,\u001b[0m \u001b[0mcart\u001b[0m\u001b[1;33m)\u001b[0m\u001b[1;33m\u001b[0m\u001b[1;33m\u001b[0m\u001b[0m\n\u001b[0;32m     18\u001b[0m             \u001b[0mdelete_item\u001b[0m \u001b[1;33m=\u001b[0m \u001b[0minput\u001b[0m\u001b[1;33m(\u001b[0m\u001b[1;34m\"Please type the number next to the item you'd like to delete!\"\u001b[0m\u001b[1;33m)\u001b[0m\u001b[1;33m\u001b[0m\u001b[1;33m\u001b[0m\u001b[0m\n\u001b[1;32m---> 19\u001b[1;33m             \u001b[0mint\u001b[0m\u001b[1;33m(\u001b[0m\u001b[0mcart\u001b[0m\u001b[1;33m)\u001b[0m\u001b[1;33m\u001b[0m\u001b[1;33m\u001b[0m\u001b[0m\n\u001b[0m\u001b[0;32m     20\u001b[0m             \u001b[0mcart\u001b[0m\u001b[1;33m.\u001b[0m\u001b[0mpop\u001b[0m\u001b[1;33m(\u001b[0m\u001b[0mdelete_item\u001b[0m\u001b[1;33m)\u001b[0m\u001b[1;33m\u001b[0m\u001b[1;33m\u001b[0m\u001b[0m\n\u001b[0;32m     21\u001b[0m     \u001b[1;32melif\u001b[0m \u001b[0muser_input\u001b[0m\u001b[1;33m.\u001b[0m\u001b[0mlower\u001b[0m\u001b[1;33m(\u001b[0m\u001b[1;33m)\u001b[0m \u001b[1;33m==\u001b[0m \u001b[1;34m\"q\"\u001b[0m\u001b[1;33m:\u001b[0m\u001b[1;33m\u001b[0m\u001b[1;33m\u001b[0m\u001b[0m\n",
      "\u001b[1;31mValueError\u001b[0m: invalid literal for int() with base 10: 'sdfgsdef'"
     ]
    }
   ],
   "source": [
    "from IPython.display import clear_output\n",
    "\n",
    "# Ask the user four bits of input: Do you want to : Show/Add/Delete or Quit?\n",
    "\n",
    "cart = []\n",
    "\n",
    "\n",
    "while True:\n",
    "    user_input = input(\"Welcome to Bruce-Mart! Please select from the following! \\n Type 'S' - to show the contents of your cart \\n Type 'A' - to add items to your cart \\n Type 'D' - to delete items \\n Type 'Q' - to quit! \\n\")\n",
    "    if user_input.lower() == \"s\":\n",
    "        print(cart)\n",
    "    elif user_input.lower() == \"a\":\n",
    "        user_wants = input(\"What would you like to add to your cart? Type 'Q' - to cancel. \\n\")\n",
    "        cart.append(user_wants)\n",
    "    elif user_input.lower() == \"d\":\n",
    "            for i, cart in enumerate (cart, start=0):\n",
    "                print(i, cart)\n",
    "            delete_item = input(\"Please type the number next to the item you'd like to delete!\")\n",
    "            int(cart)\n",
    "            cart.pop(delete_item)\n",
    "    elif user_input.lower() == \"q\":\n",
    "        break\n",
    "\n",
    "\n",
    "\n"
   ]
  },
  {
   "cell_type": "code",
   "execution_count": null,
   "id": "4be5fc60",
   "metadata": {},
   "outputs": [],
   "source": []
  },
  {
   "cell_type": "markdown",
   "id": "f0a8f04f",
   "metadata": {},
   "source": [
    "# 2) Create a Module in VS Code and Import It into jupyter notebook\n",
    "Module should have the following capabilities:\n",
    "\n",
    "1) Has a function to calculate the square footage of a house\n",
    "Reminder of Formula: Length X Width == Area\n",
    "\n",
    "2) Has a function to calculate the circumference of a circle\n",
    "\n",
    "Program in Jupyter Notebook should take in user input and use imported functions to calculate a circle's circumference or a houses square footage"
   ]
  },
  {
   "cell_type": "markdown",
   "id": "04a1536a",
   "metadata": {},
   "source": [
    "# Inside VS CODE folder"
   ]
  }
 ],
 "metadata": {
  "kernelspec": {
   "display_name": "Python 3 (ipykernel)",
   "language": "python",
   "name": "python3"
  },
  "language_info": {
   "codemirror_mode": {
    "name": "ipython",
    "version": 3
   },
   "file_extension": ".py",
   "mimetype": "text/x-python",
   "name": "python",
   "nbconvert_exporter": "python",
   "pygments_lexer": "ipython3",
   "version": "3.9.13"
  }
 },
 "nbformat": 4,
 "nbformat_minor": 5
}
