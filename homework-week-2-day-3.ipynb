{
 "cells": [
  {
   "cell_type": "markdown",
   "id": "a508e9b4",
   "metadata": {},
   "source": [
    "# 1) Build a Shopping Cart\n",
    "You can use either lists or dictionaries. The program should have the following capabilities:\n",
    "\n",
    "1) Takes in input\n",
    "2) Stores user input into a dictionary or list\n",
    "3) The User can add or delete items\n",
    "4) The User can see current shopping list\n",
    "5) The program Loops until user 'quits'\n",
    "6) Upon quiting the program, print out all items in the user's list"
   ]
  },
  {
   "cell_type": "code",
   "execution_count": null,
   "id": "6994a535",
   "metadata": {
    "scrolled": false
   },
   "outputs": [],
   "source": [
    "from IPython.display import clear_output\n",
    "\n",
    "# Ask the user four bits of input: Do you want to : Show/Add/Delete or Quit?\n",
    "\n",
    "cart = []\n",
    "\n",
    "\n",
    "while True:\n",
    "    user_input = input(\"Welcome to Bruce-Mart! Please select from the following! \\n Type 'S' - to show the contents of your cart \\n Type 'A' - to add items to your cart \\n Type 'D' - to delete items \\n Type 'Q' - to quit! \\n\")\n",
    "    if user_input.lower() == \"s\":\n",
    "        print(cart)\n",
    "    elif user_input.lower() == \"a\":\n",
    "        user_wants = input(\"What would you like to add to your cart? Type 'Q' - to cancel. \\n\")\n",
    "        cart.append(user_wants)\n",
    "    elif user_input.lower() == \"d\":\n",
    "            delete_cart = input(f\"Please type the item you want to delete {cart}\")\n",
    "            if delete_cart not in cart:\n",
    "                print(\"You don't have that item!\")\n",
    "            else:\n",
    "                cart.remove(delete_cart)\n",
    "    elif user_input.lower() == \"q\":\n",
    "        break\n",
    "\n",
    "\n"
   ]
  },
  {
   "cell_type": "code",
   "execution_count": null,
   "id": "4be5fc60",
   "metadata": {},
   "outputs": [],
   "source": []
  },
  {
   "cell_type": "markdown",
   "id": "f0a8f04f",
   "metadata": {},
   "source": [
    "# 2) Create a Module in VS Code and Import It into jupyter notebook\n",
    "Module should have the following capabilities:\n",
    "\n",
    "1) Has a function to calculate the square footage of a house\n",
    "Reminder of Formula: Length X Width == Area\n",
    "\n",
    "2) Has a function to calculate the circumference of a circle\n",
    "\n",
    "Program in Jupyter Notebook should take in user input and use imported functions to calculate a circle's circumference or a houses square footage"
   ]
  },
  {
   "cell_type": "code",
   "execution_count": 1,
   "id": "d9a2313e",
   "metadata": {},
   "outputs": [
    {
     "name": "stdout",
     "output_type": "stream",
     "text": [
      "5000\n",
      "18.84\n"
     ]
    }
   ],
   "source": [
    "from circumference import circumCal\n",
    "\n",
    "from square_foot import squareFootCal\n",
    "\n",
    "print(squareFootCal(100,50))\n",
    "print(circumCal(3))\n"
   ]
  }
 ],
 "metadata": {
  "kernelspec": {
   "display_name": "Python 3 (ipykernel)",
   "language": "python",
   "name": "python3"
  },
  "language_info": {
   "codemirror_mode": {
    "name": "ipython",
    "version": 3
   },
   "file_extension": ".py",
   "mimetype": "text/x-python",
   "name": "python",
   "nbconvert_exporter": "python",
   "pygments_lexer": "ipython3",
   "version": "3.9.13"
  }
 },
 "nbformat": 4,
 "nbformat_minor": 5
}
